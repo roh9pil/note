{
  "nbformat": 4,
  "nbformat_minor": 0,
  "metadata": {
    "colab": {
      "name": "SingleLabel-MultiClass.ipynb",
      "provenance": [],
      "authorship_tag": "ABX9TyPutkjZ8/IB+V1scOtvchzl",
      "include_colab_link": true
    },
    "kernelspec": {
      "name": "python3",
      "display_name": "Python 3"
    }
  },
  "cells": [
    {
      "cell_type": "markdown",
      "metadata": {
        "id": "view-in-github",
        "colab_type": "text"
      },
      "source": [
        "<a href=\"https://colab.research.google.com/github/roh9pil/note/blob/master/SingleLabel_MultiClass.ipynb\" target=\"_parent\"><img src=\"https://colab.research.google.com/assets/colab-badge.svg\" alt=\"Open In Colab\"/></a>"
      ]
    },
    {
      "cell_type": "code",
      "metadata": {
        "id": "gEAyuDVWhP6Q",
        "colab_type": "code",
        "colab": {
          "base_uri": "https://localhost:8080/",
          "height": 53
        },
        "outputId": "c8067a4b-9ecf-4474-88ac-339ef003f710"
      },
      "source": [
        "from keras.datasets import reuters\n",
        "\n",
        "(train_data, train_labels), (test_data, test_labels) = reuters.load_data(num_words=10000)"
      ],
      "execution_count": 2,
      "outputs": [
        {
          "output_type": "stream",
          "text": [
            "Downloading data from https://s3.amazonaws.com/text-datasets/reuters.npz\n",
            "2113536/2110848 [==============================] - 1s 1us/step\n"
          ],
          "name": "stdout"
        }
      ]
    },
    {
      "cell_type": "code",
      "metadata": {
        "id": "vwDhGUnLhjDM",
        "colab_type": "code",
        "colab": {}
      },
      "source": [
        "import numpy as np\n",
        "def vectorize_seq(sequences, dimensions=10000):\n",
        "  results=np.zeros((len(sequences),dimensions))\n",
        "  for i, s in enumerate(sequences):\n",
        "    results[i, s] = 1.\n",
        "  return results"
      ],
      "execution_count": 0,
      "outputs": []
    },
    {
      "cell_type": "code",
      "metadata": {
        "id": "w6SdfK2Nhw4W",
        "colab_type": "code",
        "colab": {}
      },
      "source": [
        "x_train = vectorize_seq(train_data)"
      ],
      "execution_count": 0,
      "outputs": []
    },
    {
      "cell_type": "code",
      "metadata": {
        "id": "JR5h8-E_iSZ_",
        "colab_type": "code",
        "colab": {}
      },
      "source": [
        "x_test = vectorize_seq(test_data)"
      ],
      "execution_count": 0,
      "outputs": []
    },
    {
      "cell_type": "code",
      "metadata": {
        "id": "_HAC-T_Aiqde",
        "colab_type": "code",
        "colab": {
          "base_uri": "https://localhost:8080/",
          "height": 35
        },
        "outputId": "46e3947e-44b5-4f4f-9591-3ac375b7b592"
      },
      "source": [
        "len(train_labels)"
      ],
      "execution_count": 10,
      "outputs": [
        {
          "output_type": "execute_result",
          "data": {
            "text/plain": [
              "8982"
            ]
          },
          "metadata": {
            "tags": []
          },
          "execution_count": 10
        }
      ]
    },
    {
      "cell_type": "code",
      "metadata": {
        "id": "p0Shzx5xiZyi",
        "colab_type": "code",
        "colab": {}
      },
      "source": [
        "def to_one_hot(labels, dimensions=46):\n",
        "  results = np.zeros((len(labels), dimensions))\n",
        "  for i, l in enumerate(labels):\n",
        "    results[i, l] = 1.\n",
        "  return results\n"
      ],
      "execution_count": 0,
      "outputs": []
    },
    {
      "cell_type": "code",
      "metadata": {
        "id": "KNa_kv0TjGBw",
        "colab_type": "code",
        "colab": {}
      },
      "source": [
        "one_hot_train_labels = to_one_hot(train_labels)\n",
        "one_hot_test_labels = to_one_hot(test_labels)"
      ],
      "execution_count": 0,
      "outputs": []
    },
    {
      "cell_type": "code",
      "metadata": {
        "id": "SgJhljN8jNZU",
        "colab_type": "code",
        "colab": {}
      },
      "source": [
        "from keras import models\n",
        "from keras import layers\n",
        "\n",
        "model = models.Sequential()\n",
        "model.add(layers.Dense(64, activation='relu', input_shape=(10000,)))\n",
        "model.add(layers.Dense(64, activation='relu'))\n",
        "model.add(layers.Dense(46, activation='softmax'))"
      ],
      "execution_count": 0,
      "outputs": []
    },
    {
      "cell_type": "code",
      "metadata": {
        "id": "FIOq-KVdjc1C",
        "colab_type": "code",
        "colab": {}
      },
      "source": [
        "model.compile(optimizer='rmsprop',\n",
        "              loss='categorical_crossentropy',\n",
        "              metrics=['acc']\n",
        ")"
      ],
      "execution_count": 0,
      "outputs": []
    },
    {
      "cell_type": "code",
      "metadata": {
        "id": "JfxU4GgkkKLe",
        "colab_type": "code",
        "colab": {}
      },
      "source": [
        "x_val = x_train[-1000:]\n",
        "partial_x_train = x_train[:-1000]\n",
        "\n",
        "y_val = one_hot_train_labels[-1000:]\n",
        "partial_y_train = one_hot_train_labels[:-1000]"
      ],
      "execution_count": 0,
      "outputs": []
    },
    {
      "cell_type": "code",
      "metadata": {
        "id": "vnoFi5WYkh0Y",
        "colab_type": "code",
        "colab": {
          "base_uri": "https://localhost:8080/",
          "height": 755
        },
        "outputId": "0ad19a94-4414-4e0c-cf74-aedd457e8a1c"
      },
      "source": [
        "history = model.fit(partial_x_train,\n",
        "                    partial_y_train,\n",
        "                    epochs=20,\n",
        "                    batch_size=512,\n",
        "                    validation_data=(x_val, y_val))"
      ],
      "execution_count": 21,
      "outputs": [
        {
          "output_type": "stream",
          "text": [
            "Train on 7982 samples, validate on 1000 samples\n",
            "Epoch 1/20\n",
            "7982/7982 [==============================] - 1s 151us/step - loss: 2.6823 - acc: 0.5242 - val_loss: 1.8597 - val_acc: 0.6440\n",
            "Epoch 2/20\n",
            "7982/7982 [==============================] - 1s 109us/step - loss: 1.4481 - acc: 0.7047 - val_loss: 1.4067 - val_acc: 0.7120\n",
            "Epoch 3/20\n",
            "7982/7982 [==============================] - 1s 111us/step - loss: 1.0608 - acc: 0.7821 - val_loss: 1.2348 - val_acc: 0.7360\n",
            "Epoch 4/20\n",
            "7982/7982 [==============================] - 1s 109us/step - loss: 0.8342 - acc: 0.8290 - val_loss: 1.1143 - val_acc: 0.7600\n",
            "Epoch 5/20\n",
            "7982/7982 [==============================] - 1s 109us/step - loss: 0.6644 - acc: 0.8628 - val_loss: 1.0592 - val_acc: 0.7620\n",
            "Epoch 6/20\n",
            "7982/7982 [==============================] - 1s 111us/step - loss: 0.5337 - acc: 0.8923 - val_loss: 1.0092 - val_acc: 0.7840\n",
            "Epoch 7/20\n",
            "7982/7982 [==============================] - 1s 111us/step - loss: 0.4310 - acc: 0.9132 - val_loss: 1.0124 - val_acc: 0.7810\n",
            "Epoch 8/20\n",
            "7982/7982 [==============================] - 1s 111us/step - loss: 0.3470 - acc: 0.9288 - val_loss: 0.9688 - val_acc: 0.7990\n",
            "Epoch 9/20\n",
            "7982/7982 [==============================] - 1s 112us/step - loss: 0.2862 - acc: 0.9371 - val_loss: 0.9919 - val_acc: 0.8040\n",
            "Epoch 10/20\n",
            "7982/7982 [==============================] - 1s 111us/step - loss: 0.2455 - acc: 0.9466 - val_loss: 0.9657 - val_acc: 0.8080\n",
            "Epoch 11/20\n",
            "7982/7982 [==============================] - 1s 109us/step - loss: 0.2092 - acc: 0.9491 - val_loss: 0.9903 - val_acc: 0.8000\n",
            "Epoch 12/20\n",
            "7982/7982 [==============================] - 1s 111us/step - loss: 0.1803 - acc: 0.9551 - val_loss: 1.0178 - val_acc: 0.7960\n",
            "Epoch 13/20\n",
            "7982/7982 [==============================] - 1s 111us/step - loss: 0.1673 - acc: 0.9546 - val_loss: 1.0609 - val_acc: 0.7900\n",
            "Epoch 14/20\n",
            "7982/7982 [==============================] - 1s 110us/step - loss: 0.1501 - acc: 0.9570 - val_loss: 1.0352 - val_acc: 0.7920\n",
            "Epoch 15/20\n",
            "7982/7982 [==============================] - 1s 110us/step - loss: 0.1405 - acc: 0.9573 - val_loss: 1.0719 - val_acc: 0.7870\n",
            "Epoch 16/20\n",
            "7982/7982 [==============================] - 1s 110us/step - loss: 0.1281 - acc: 0.9587 - val_loss: 1.1515 - val_acc: 0.7860\n",
            "Epoch 17/20\n",
            "7982/7982 [==============================] - 1s 110us/step - loss: 0.1235 - acc: 0.9595 - val_loss: 1.1651 - val_acc: 0.7770\n",
            "Epoch 18/20\n",
            "7982/7982 [==============================] - 1s 110us/step - loss: 0.1169 - acc: 0.9578 - val_loss: 1.1514 - val_acc: 0.7790\n",
            "Epoch 19/20\n",
            "7982/7982 [==============================] - 1s 113us/step - loss: 0.1103 - acc: 0.9602 - val_loss: 1.1516 - val_acc: 0.7920\n",
            "Epoch 20/20\n",
            "7982/7982 [==============================] - 1s 110us/step - loss: 0.1107 - acc: 0.9583 - val_loss: 1.2260 - val_acc: 0.7760\n"
          ],
          "name": "stdout"
        }
      ]
    },
    {
      "cell_type": "code",
      "metadata": {
        "id": "eautOE-Ik1HH",
        "colab_type": "code",
        "colab": {
          "base_uri": "https://localhost:8080/",
          "height": 617
        },
        "outputId": "ed68fb8d-66dc-440e-8e26-b4f54386614a"
      },
      "source": [
        "from plotly.subplots import make_subplots\n",
        "import plotly.graph_objects as go\n",
        "import pandas as pd\n",
        "\n",
        "fig = make_subplots(rows=1, cols=2)\n",
        "fig.update_layout(height=600, width=800, title_text=\"Side By Side Subplots\")\n",
        "\n",
        "df = pd.DataFrame(history.history)\n",
        "\n",
        "fig.add_trace(go.Scatter(x=df.index, y=df.loss,\n",
        "                    mode='lines+markers',\n",
        "                    name='loss'),\n",
        "                    row=1, col=1\n",
        ")\n",
        "fig.add_trace(go.Scatter(x=df.index, y=df.val_loss,\n",
        "                    mode='lines+markers',\n",
        "                    name='validation_loss'),\n",
        "                    row=1, col=1\n",
        ")\n",
        "fig.add_trace(go.Scatter(x=df.index, y=df.acc,\n",
        "                    mode='lines+markers',\n",
        "                    name='acc'),\n",
        "                  row=1, col=2\n",
        ")\n",
        "fig.add_trace(go.Scatter(x=df.index, y=df.val_acc,\n",
        "                    mode='lines+markers',\n",
        "                    name='validation_acc'),\n",
        "                    row=1, col=2\n",
        "              )\n",
        "fig.show()"
      ],
      "execution_count": 27,
      "outputs": [
        {
          "output_type": "display_data",
          "data": {
            "text/html": [
              "<html>\n",
              "<head><meta charset=\"utf-8\" /></head>\n",
              "<body>\n",
              "    <div>\n",
              "            <script src=\"https://cdnjs.cloudflare.com/ajax/libs/mathjax/2.7.5/MathJax.js?config=TeX-AMS-MML_SVG\"></script><script type=\"text/javascript\">if (window.MathJax) {MathJax.Hub.Config({SVG: {font: \"STIX-Web\"}});}</script>\n",
              "                <script type=\"text/javascript\">window.PlotlyConfig = {MathJaxConfig: 'local'};</script>\n",
              "        <script src=\"https://cdn.plot.ly/plotly-latest.min.js\"></script>    \n",
              "            <div id=\"26d72257-bb31-4ee1-b310-48f1b4e90f53\" class=\"plotly-graph-div\" style=\"height:600px; width:800px;\"></div>\n",
              "            <script type=\"text/javascript\">\n",
              "                \n",
              "                    window.PLOTLYENV=window.PLOTLYENV || {};\n",
              "                    \n",
              "                if (document.getElementById(\"26d72257-bb31-4ee1-b310-48f1b4e90f53\")) {\n",
              "                    Plotly.newPlot(\n",
              "                        '26d72257-bb31-4ee1-b310-48f1b4e90f53',\n",
              "                        [{\"mode\": \"lines+markers\", \"name\": \"loss\", \"type\": \"scatter\", \"x\": [0, 1, 2, 3, 4, 5, 6, 7, 8, 9, 10, 11, 12, 13, 14, 15, 16, 17, 18, 19], \"xaxis\": \"x\", \"y\": [2.682309443447053, 1.4481270844343161, 1.0608343183471576, 0.8341971310539312, 0.664406333030002, 0.5337166092922083, 0.4310019087280674, 0.3470295247384045, 0.2861546210270721, 0.24551508810340358, 0.2091976195402057, 0.18029035084963263, 0.16730447448612723, 0.15013965349751765, 0.14052403445860343, 0.12813297117213443, 0.12354424511451406, 0.11687160636347596, 0.11026548759078836, 0.11065829267659542], \"yaxis\": \"y\"}, {\"mode\": \"lines+markers\", \"name\": \"validation_loss\", \"type\": \"scatter\", \"x\": [0, 1, 2, 3, 4, 5, 6, 7, 8, 9, 10, 11, 12, 13, 14, 15, 16, 17, 18, 19], \"xaxis\": \"x\", \"y\": [1.8596739292144775, 1.4067414684295654, 1.2347953338623048, 1.1143158206939696, 1.0592129726409911, 1.009181514263153, 1.0123650283813477, 0.9687512774467468, 0.9918578977584839, 0.9657394652366638, 0.9902677531242371, 1.01781246137619, 1.0608817954063416, 1.0351668519973756, 1.0719224371910094, 1.15147749042511, 1.165148657798767, 1.1513538761138915, 1.15158598613739, 1.225975655555725], \"yaxis\": \"y\"}, {\"mode\": \"lines+markers\", \"name\": \"acc\", \"type\": \"scatter\", \"x\": [0, 1, 2, 3, 4, 5, 6, 7, 8, 9, 10, 11, 12, 13, 14, 15, 16, 17, 18, 19], \"xaxis\": \"x2\", \"y\": [0.5241793990135193, 0.7047106027603149, 0.7821348309516907, 0.8289902210235596, 0.862816333770752, 0.892257571220398, 0.9131796360015869, 0.9288398623466492, 0.9371085166931152, 0.9466299414634705, 0.9491355419158936, 0.9551491141319275, 0.954647958278656, 0.957028329372406, 0.957278847694397, 0.9586569666862488, 0.9595339298248291, 0.9577800035476685, 0.9601603746414185, 0.9582811594009399], \"yaxis\": \"y2\"}, {\"mode\": \"lines+markers\", \"name\": \"validation_acc\", \"type\": \"scatter\", \"x\": [0, 1, 2, 3, 4, 5, 6, 7, 8, 9, 10, 11, 12, 13, 14, 15, 16, 17, 18, 19], \"xaxis\": \"x2\", \"y\": [0.6439999938011169, 0.7120000123977661, 0.7360000014305115, 0.7599999904632568, 0.7620000243186951, 0.7839999794960022, 0.781000018119812, 0.7990000247955322, 0.8040000200271606, 0.8080000281333923, 0.800000011920929, 0.7960000038146973, 0.7900000214576721, 0.7919999957084656, 0.7870000004768372, 0.7860000133514404, 0.7770000100135803, 0.7789999842643738, 0.7919999957084656, 0.7760000228881836], \"yaxis\": \"y2\"}],\n",
              "                        {\"height\": 600, \"template\": {\"data\": {\"bar\": [{\"error_x\": {\"color\": \"#2a3f5f\"}, \"error_y\": {\"color\": \"#2a3f5f\"}, \"marker\": {\"line\": {\"color\": \"#E5ECF6\", \"width\": 0.5}}, \"type\": \"bar\"}], \"barpolar\": [{\"marker\": {\"line\": {\"color\": \"#E5ECF6\", \"width\": 0.5}}, \"type\": \"barpolar\"}], \"carpet\": [{\"aaxis\": {\"endlinecolor\": \"#2a3f5f\", \"gridcolor\": \"white\", \"linecolor\": \"white\", \"minorgridcolor\": \"white\", \"startlinecolor\": \"#2a3f5f\"}, \"baxis\": {\"endlinecolor\": \"#2a3f5f\", \"gridcolor\": \"white\", \"linecolor\": \"white\", \"minorgridcolor\": \"white\", \"startlinecolor\": \"#2a3f5f\"}, \"type\": \"carpet\"}], \"choropleth\": [{\"colorbar\": {\"outlinewidth\": 0, \"ticks\": \"\"}, \"type\": \"choropleth\"}], \"contour\": [{\"colorbar\": {\"outlinewidth\": 0, \"ticks\": \"\"}, \"colorscale\": [[0.0, \"#0d0887\"], [0.1111111111111111, \"#46039f\"], [0.2222222222222222, \"#7201a8\"], [0.3333333333333333, \"#9c179e\"], [0.4444444444444444, \"#bd3786\"], [0.5555555555555556, \"#d8576b\"], [0.6666666666666666, \"#ed7953\"], [0.7777777777777778, \"#fb9f3a\"], [0.8888888888888888, \"#fdca26\"], [1.0, \"#f0f921\"]], \"type\": \"contour\"}], \"contourcarpet\": [{\"colorbar\": {\"outlinewidth\": 0, \"ticks\": \"\"}, \"type\": \"contourcarpet\"}], \"heatmap\": [{\"colorbar\": {\"outlinewidth\": 0, \"ticks\": \"\"}, \"colorscale\": [[0.0, \"#0d0887\"], [0.1111111111111111, \"#46039f\"], [0.2222222222222222, \"#7201a8\"], [0.3333333333333333, \"#9c179e\"], [0.4444444444444444, \"#bd3786\"], [0.5555555555555556, \"#d8576b\"], [0.6666666666666666, \"#ed7953\"], [0.7777777777777778, \"#fb9f3a\"], [0.8888888888888888, \"#fdca26\"], [1.0, \"#f0f921\"]], \"type\": \"heatmap\"}], \"heatmapgl\": [{\"colorbar\": {\"outlinewidth\": 0, \"ticks\": \"\"}, \"colorscale\": [[0.0, \"#0d0887\"], [0.1111111111111111, \"#46039f\"], [0.2222222222222222, \"#7201a8\"], [0.3333333333333333, \"#9c179e\"], [0.4444444444444444, \"#bd3786\"], [0.5555555555555556, \"#d8576b\"], [0.6666666666666666, \"#ed7953\"], [0.7777777777777778, \"#fb9f3a\"], [0.8888888888888888, \"#fdca26\"], [1.0, \"#f0f921\"]], \"type\": \"heatmapgl\"}], \"histogram\": [{\"marker\": {\"colorbar\": {\"outlinewidth\": 0, \"ticks\": \"\"}}, \"type\": \"histogram\"}], \"histogram2d\": [{\"colorbar\": {\"outlinewidth\": 0, \"ticks\": \"\"}, \"colorscale\": [[0.0, \"#0d0887\"], [0.1111111111111111, \"#46039f\"], [0.2222222222222222, \"#7201a8\"], [0.3333333333333333, \"#9c179e\"], [0.4444444444444444, \"#bd3786\"], [0.5555555555555556, \"#d8576b\"], [0.6666666666666666, \"#ed7953\"], [0.7777777777777778, \"#fb9f3a\"], [0.8888888888888888, \"#fdca26\"], [1.0, \"#f0f921\"]], \"type\": \"histogram2d\"}], \"histogram2dcontour\": [{\"colorbar\": {\"outlinewidth\": 0, \"ticks\": \"\"}, \"colorscale\": [[0.0, \"#0d0887\"], [0.1111111111111111, \"#46039f\"], [0.2222222222222222, \"#7201a8\"], [0.3333333333333333, \"#9c179e\"], [0.4444444444444444, \"#bd3786\"], [0.5555555555555556, \"#d8576b\"], [0.6666666666666666, \"#ed7953\"], [0.7777777777777778, \"#fb9f3a\"], [0.8888888888888888, \"#fdca26\"], [1.0, \"#f0f921\"]], \"type\": \"histogram2dcontour\"}], \"mesh3d\": [{\"colorbar\": {\"outlinewidth\": 0, \"ticks\": \"\"}, \"type\": \"mesh3d\"}], \"parcoords\": [{\"line\": {\"colorbar\": {\"outlinewidth\": 0, \"ticks\": \"\"}}, \"type\": \"parcoords\"}], \"pie\": [{\"automargin\": true, \"type\": \"pie\"}], \"scatter\": [{\"marker\": {\"colorbar\": {\"outlinewidth\": 0, \"ticks\": \"\"}}, \"type\": \"scatter\"}], \"scatter3d\": [{\"line\": {\"colorbar\": {\"outlinewidth\": 0, \"ticks\": \"\"}}, \"marker\": {\"colorbar\": {\"outlinewidth\": 0, \"ticks\": \"\"}}, \"type\": \"scatter3d\"}], \"scattercarpet\": [{\"marker\": {\"colorbar\": {\"outlinewidth\": 0, \"ticks\": \"\"}}, \"type\": \"scattercarpet\"}], \"scattergeo\": [{\"marker\": {\"colorbar\": {\"outlinewidth\": 0, \"ticks\": \"\"}}, \"type\": \"scattergeo\"}], \"scattergl\": [{\"marker\": {\"colorbar\": {\"outlinewidth\": 0, \"ticks\": \"\"}}, \"type\": \"scattergl\"}], \"scattermapbox\": [{\"marker\": {\"colorbar\": {\"outlinewidth\": 0, \"ticks\": \"\"}}, \"type\": \"scattermapbox\"}], \"scatterpolar\": [{\"marker\": {\"colorbar\": {\"outlinewidth\": 0, \"ticks\": \"\"}}, \"type\": \"scatterpolar\"}], \"scatterpolargl\": [{\"marker\": {\"colorbar\": {\"outlinewidth\": 0, \"ticks\": \"\"}}, \"type\": \"scatterpolargl\"}], \"scatterternary\": [{\"marker\": {\"colorbar\": {\"outlinewidth\": 0, \"ticks\": \"\"}}, \"type\": \"scatterternary\"}], \"surface\": [{\"colorbar\": {\"outlinewidth\": 0, \"ticks\": \"\"}, \"colorscale\": [[0.0, \"#0d0887\"], [0.1111111111111111, \"#46039f\"], [0.2222222222222222, \"#7201a8\"], [0.3333333333333333, \"#9c179e\"], [0.4444444444444444, \"#bd3786\"], [0.5555555555555556, \"#d8576b\"], [0.6666666666666666, \"#ed7953\"], [0.7777777777777778, \"#fb9f3a\"], [0.8888888888888888, \"#fdca26\"], [1.0, \"#f0f921\"]], \"type\": \"surface\"}], \"table\": [{\"cells\": {\"fill\": {\"color\": \"#EBF0F8\"}, \"line\": {\"color\": \"white\"}}, \"header\": {\"fill\": {\"color\": \"#C8D4E3\"}, \"line\": {\"color\": \"white\"}}, \"type\": \"table\"}]}, \"layout\": {\"annotationdefaults\": {\"arrowcolor\": \"#2a3f5f\", \"arrowhead\": 0, \"arrowwidth\": 1}, \"coloraxis\": {\"colorbar\": {\"outlinewidth\": 0, \"ticks\": \"\"}}, \"colorscale\": {\"diverging\": [[0, \"#8e0152\"], [0.1, \"#c51b7d\"], [0.2, \"#de77ae\"], [0.3, \"#f1b6da\"], [0.4, \"#fde0ef\"], [0.5, \"#f7f7f7\"], [0.6, \"#e6f5d0\"], [0.7, \"#b8e186\"], [0.8, \"#7fbc41\"], [0.9, \"#4d9221\"], [1, \"#276419\"]], \"sequential\": [[0.0, \"#0d0887\"], [0.1111111111111111, \"#46039f\"], [0.2222222222222222, \"#7201a8\"], [0.3333333333333333, \"#9c179e\"], [0.4444444444444444, \"#bd3786\"], [0.5555555555555556, \"#d8576b\"], [0.6666666666666666, \"#ed7953\"], [0.7777777777777778, \"#fb9f3a\"], [0.8888888888888888, \"#fdca26\"], [1.0, \"#f0f921\"]], \"sequentialminus\": [[0.0, \"#0d0887\"], [0.1111111111111111, \"#46039f\"], [0.2222222222222222, \"#7201a8\"], [0.3333333333333333, \"#9c179e\"], [0.4444444444444444, \"#bd3786\"], [0.5555555555555556, \"#d8576b\"], [0.6666666666666666, \"#ed7953\"], [0.7777777777777778, \"#fb9f3a\"], [0.8888888888888888, \"#fdca26\"], [1.0, \"#f0f921\"]]}, \"colorway\": [\"#636efa\", \"#EF553B\", \"#00cc96\", \"#ab63fa\", \"#FFA15A\", \"#19d3f3\", \"#FF6692\", \"#B6E880\", \"#FF97FF\", \"#FECB52\"], \"font\": {\"color\": \"#2a3f5f\"}, \"geo\": {\"bgcolor\": \"white\", \"lakecolor\": \"white\", \"landcolor\": \"#E5ECF6\", \"showlakes\": true, \"showland\": true, \"subunitcolor\": \"white\"}, \"hoverlabel\": {\"align\": \"left\"}, \"hovermode\": \"closest\", \"mapbox\": {\"style\": \"light\"}, \"paper_bgcolor\": \"white\", \"plot_bgcolor\": \"#E5ECF6\", \"polar\": {\"angularaxis\": {\"gridcolor\": \"white\", \"linecolor\": \"white\", \"ticks\": \"\"}, \"bgcolor\": \"#E5ECF6\", \"radialaxis\": {\"gridcolor\": \"white\", \"linecolor\": \"white\", \"ticks\": \"\"}}, \"scene\": {\"xaxis\": {\"backgroundcolor\": \"#E5ECF6\", \"gridcolor\": \"white\", \"gridwidth\": 2, \"linecolor\": \"white\", \"showbackground\": true, \"ticks\": \"\", \"zerolinecolor\": \"white\"}, \"yaxis\": {\"backgroundcolor\": \"#E5ECF6\", \"gridcolor\": \"white\", \"gridwidth\": 2, \"linecolor\": \"white\", \"showbackground\": true, \"ticks\": \"\", \"zerolinecolor\": \"white\"}, \"zaxis\": {\"backgroundcolor\": \"#E5ECF6\", \"gridcolor\": \"white\", \"gridwidth\": 2, \"linecolor\": \"white\", \"showbackground\": true, \"ticks\": \"\", \"zerolinecolor\": \"white\"}}, \"shapedefaults\": {\"line\": {\"color\": \"#2a3f5f\"}}, \"ternary\": {\"aaxis\": {\"gridcolor\": \"white\", \"linecolor\": \"white\", \"ticks\": \"\"}, \"baxis\": {\"gridcolor\": \"white\", \"linecolor\": \"white\", \"ticks\": \"\"}, \"bgcolor\": \"#E5ECF6\", \"caxis\": {\"gridcolor\": \"white\", \"linecolor\": \"white\", \"ticks\": \"\"}}, \"title\": {\"x\": 0.05}, \"xaxis\": {\"automargin\": true, \"gridcolor\": \"white\", \"linecolor\": \"white\", \"ticks\": \"\", \"title\": {\"standoff\": 15}, \"zerolinecolor\": \"white\", \"zerolinewidth\": 2}, \"yaxis\": {\"automargin\": true, \"gridcolor\": \"white\", \"linecolor\": \"white\", \"ticks\": \"\", \"title\": {\"standoff\": 15}, \"zerolinecolor\": \"white\", \"zerolinewidth\": 2}}}, \"title\": {\"text\": \"Side By Side Subplots\"}, \"width\": 800, \"xaxis\": {\"anchor\": \"y\", \"domain\": [0.0, 0.45]}, \"xaxis2\": {\"anchor\": \"y2\", \"domain\": [0.55, 1.0]}, \"yaxis\": {\"anchor\": \"x\", \"domain\": [0.0, 1.0]}, \"yaxis2\": {\"anchor\": \"x2\", \"domain\": [0.0, 1.0]}},\n",
              "                        {\"responsive\": true}\n",
              "                    ).then(function(){\n",
              "                            \n",
              "var gd = document.getElementById('26d72257-bb31-4ee1-b310-48f1b4e90f53');\n",
              "var x = new MutationObserver(function (mutations, observer) {{\n",
              "        var display = window.getComputedStyle(gd).display;\n",
              "        if (!display || display === 'none') {{\n",
              "            console.log([gd, 'removed!']);\n",
              "            Plotly.purge(gd);\n",
              "            observer.disconnect();\n",
              "        }}\n",
              "}});\n",
              "\n",
              "// Listen for the removal of the full notebook cells\n",
              "var notebookContainer = gd.closest('#notebook-container');\n",
              "if (notebookContainer) {{\n",
              "    x.observe(notebookContainer, {childList: true});\n",
              "}}\n",
              "\n",
              "// Listen for the clearing of the current output cell\n",
              "var outputEl = gd.closest('.output');\n",
              "if (outputEl) {{\n",
              "    x.observe(outputEl, {childList: true});\n",
              "}}\n",
              "\n",
              "                        })\n",
              "                };\n",
              "                \n",
              "            </script>\n",
              "        </div>\n",
              "</body>\n",
              "</html>"
            ]
          },
          "metadata": {
            "tags": []
          }
        }
      ]
    },
    {
      "cell_type": "code",
      "metadata": {
        "id": "3fVjnPC1lNlC",
        "colab_type": "code",
        "colab": {}
      },
      "source": [
        ""
      ],
      "execution_count": 0,
      "outputs": []
    }
  ]
}