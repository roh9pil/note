{
  "nbformat": 4,
  "nbformat_minor": 0,
  "metadata": {
    "colab": {
      "name": "IMDB.ipynb",
      "provenance": [],
      "authorship_tag": "ABX9TyOy7S3LVsAYNEnXH1liKuxc",
      "include_colab_link": true
    },
    "kernelspec": {
      "name": "python3",
      "display_name": "Python 3"
    }
  },
  "cells": [
    {
      "cell_type": "markdown",
      "metadata": {
        "id": "view-in-github",
        "colab_type": "text"
      },
      "source": [
        "<a href=\"https://colab.research.google.com/github/roh9pil/note/blob/master/IMDB.ipynb\" target=\"_parent\"><img src=\"https://colab.research.google.com/assets/colab-badge.svg\" alt=\"Open In Colab\"/></a>"
      ]
    },
    {
      "cell_type": "code",
      "metadata": {
        "id": "EcAo58ntXCwq",
        "colab_type": "code",
        "colab": {
          "base_uri": "https://localhost:8080/",
          "height": 35
        },
        "outputId": "e0cbd304-2a01-4cf7-f007-62d215014b8d"
      },
      "source": [
        "from keras.datasets import imdb"
      ],
      "execution_count": 1,
      "outputs": [
        {
          "output_type": "stream",
          "text": [
            "Using TensorFlow backend.\n"
          ],
          "name": "stderr"
        }
      ]
    },
    {
      "cell_type": "code",
      "metadata": {
        "id": "vIE95CzdXKpe",
        "colab_type": "code",
        "colab": {
          "base_uri": "https://localhost:8080/",
          "height": 53
        },
        "outputId": "8d9bea5a-05c2-4bc6-dbeb-02a8435d729a"
      },
      "source": [
        "(train_data, train_labels), (test_data, test_labels) = imdb.load_data(num_words=10000)"
      ],
      "execution_count": 2,
      "outputs": [
        {
          "output_type": "stream",
          "text": [
            "Downloading data from https://s3.amazonaws.com/text-datasets/imdb.npz\n",
            "17465344/17464789 [==============================] - 1s 0us/step\n"
          ],
          "name": "stdout"
        }
      ]
    },
    {
      "cell_type": "markdown",
      "metadata": {
        "id": "Ext_6AZ4Y902",
        "colab_type": "text"
      },
      "source": [
        "Vectorization"
      ]
    },
    {
      "cell_type": "code",
      "metadata": {
        "id": "fJ_49eb9XZqb",
        "colab_type": "code",
        "colab": {}
      },
      "source": [
        "import numpy as np\n",
        "def vectorized_seq (seq, dimensions=10000):\n",
        "  results = np.zeros((len(seq), dimensions))\n",
        "  for i, s in enumerate(seq):\n",
        "    results[i, s] = 1.\n",
        "  return results"
      ],
      "execution_count": 0,
      "outputs": []
    },
    {
      "cell_type": "code",
      "metadata": {
        "id": "UlVhLWPiX8xo",
        "colab_type": "code",
        "colab": {}
      },
      "source": [
        "x_train = vectorized_seq (train_data)\n",
        "x_test = vectorized_seq (test_data)"
      ],
      "execution_count": 0,
      "outputs": []
    },
    {
      "cell_type": "code",
      "metadata": {
        "id": "xIkq6P2_YIXv",
        "colab_type": "code",
        "colab": {}
      },
      "source": [
        "y_train = np.asarray(train_labels).astype(np.float32)\n",
        "y_test = np.asarray(test_labels).astype(np.float32)"
      ],
      "execution_count": 0,
      "outputs": []
    },
    {
      "cell_type": "code",
      "metadata": {
        "id": "i4-_9YjsYu57",
        "colab_type": "code",
        "colab": {}
      },
      "source": [
        "from keras import models\n",
        "from keras import layers\n",
        "\n",
        "model = models.Sequential()"
      ],
      "execution_count": 0,
      "outputs": []
    },
    {
      "cell_type": "code",
      "metadata": {
        "id": "sWFvV0qhZS0C",
        "colab_type": "code",
        "colab": {}
      },
      "source": [
        "model.add(layers.Dense(16, activation='relu', input_shape=(10000,)))\n",
        "model.add(layers.Dense(16, activation='relu'))\n",
        "model.add(layers.Dense(1, activation='sigmoid'))"
      ],
      "execution_count": 0,
      "outputs": []
    },
    {
      "cell_type": "code",
      "metadata": {
        "id": "nXAQYsmuZscQ",
        "colab_type": "code",
        "colab": {}
      },
      "source": [
        "model.compile(optimizer='rmsprop',\n",
        "              loss='binary_crossentropy',\n",
        "              metrics=['accuracy'])"
      ],
      "execution_count": 0,
      "outputs": []
    },
    {
      "cell_type": "markdown",
      "metadata": {
        "id": "DL3b0XgAZ-Pm",
        "colab_type": "text"
      },
      "source": [
        "검증 데이터 만들기"
      ]
    },
    {
      "cell_type": "code",
      "metadata": {
        "id": "Zz6GawFJZ5mU",
        "colab_type": "code",
        "colab": {}
      },
      "source": [
        " x_val = x_train[:1000]\n",
        " partial_x = x_train[1000:]\n",
        " y_val = y_train[:1000]\n",
        " partial_y = y_train[1000:]"
      ],
      "execution_count": 0,
      "outputs": []
    },
    {
      "cell_type": "code",
      "metadata": {
        "id": "970ExA-OaxwP",
        "colab_type": "code",
        "colab": {
          "base_uri": "https://localhost:8080/",
          "height": 755
        },
        "outputId": "67afd9dd-d53b-45f7-bdc5-3f4aa605c4ae"
      },
      "source": [
        "history = model.fit(partial_x,\n",
        "                    partial_y,\n",
        "                    epochs = 20,\n",
        "                    batch_size=512,\n",
        "                    validation_data=(x_val, y_val))"
      ],
      "execution_count": 19,
      "outputs": [
        {
          "output_type": "stream",
          "text": [
            "Train on 24000 samples, validate on 1000 samples\n",
            "Epoch 1/20\n",
            "24000/24000 [==============================] - 2s 80us/step - loss: 0.4791 - accuracy: 0.8223 - val_loss: 0.3669 - val_accuracy: 0.8600\n",
            "Epoch 2/20\n",
            "24000/24000 [==============================] - 2s 66us/step - loss: 0.2854 - accuracy: 0.9048 - val_loss: 0.2679 - val_accuracy: 0.8870\n",
            "Epoch 3/20\n",
            "24000/24000 [==============================] - 2s 67us/step - loss: 0.2149 - accuracy: 0.9248 - val_loss: 0.2482 - val_accuracy: 0.8920\n",
            "Epoch 4/20\n",
            "24000/24000 [==============================] - 2s 67us/step - loss: 0.1779 - accuracy: 0.9372 - val_loss: 0.2567 - val_accuracy: 0.8920\n",
            "Epoch 5/20\n",
            "24000/24000 [==============================] - 2s 66us/step - loss: 0.1499 - accuracy: 0.9486 - val_loss: 0.2609 - val_accuracy: 0.8970\n",
            "Epoch 6/20\n",
            "24000/24000 [==============================] - 2s 66us/step - loss: 0.1304 - accuracy: 0.9569 - val_loss: 0.2800 - val_accuracy: 0.8990\n",
            "Epoch 7/20\n",
            "24000/24000 [==============================] - 2s 66us/step - loss: 0.1116 - accuracy: 0.9632 - val_loss: 0.3004 - val_accuracy: 0.8820\n",
            "Epoch 8/20\n",
            "24000/24000 [==============================] - 2s 67us/step - loss: 0.0973 - accuracy: 0.9685 - val_loss: 0.2989 - val_accuracy: 0.8910\n",
            "Epoch 9/20\n",
            "24000/24000 [==============================] - 2s 67us/step - loss: 0.0834 - accuracy: 0.9743 - val_loss: 0.3303 - val_accuracy: 0.8920\n",
            "Epoch 10/20\n",
            "24000/24000 [==============================] - 2s 68us/step - loss: 0.0717 - accuracy: 0.9792 - val_loss: 0.3422 - val_accuracy: 0.8850\n",
            "Epoch 11/20\n",
            "24000/24000 [==============================] - 2s 67us/step - loss: 0.0593 - accuracy: 0.9835 - val_loss: 0.3848 - val_accuracy: 0.8870\n",
            "Epoch 12/20\n",
            "24000/24000 [==============================] - 2s 67us/step - loss: 0.0492 - accuracy: 0.9872 - val_loss: 0.3997 - val_accuracy: 0.8800\n",
            "Epoch 13/20\n",
            "24000/24000 [==============================] - 2s 67us/step - loss: 0.0417 - accuracy: 0.9893 - val_loss: 0.4148 - val_accuracy: 0.8860\n",
            "Epoch 14/20\n",
            "24000/24000 [==============================] - 2s 67us/step - loss: 0.0333 - accuracy: 0.9920 - val_loss: 0.4512 - val_accuracy: 0.8820\n",
            "Epoch 15/20\n",
            "24000/24000 [==============================] - 2s 67us/step - loss: 0.0265 - accuracy: 0.9942 - val_loss: 0.4835 - val_accuracy: 0.8800\n",
            "Epoch 16/20\n",
            "24000/24000 [==============================] - 2s 67us/step - loss: 0.0216 - accuracy: 0.9956 - val_loss: 0.5117 - val_accuracy: 0.8780\n",
            "Epoch 17/20\n",
            "24000/24000 [==============================] - 2s 68us/step - loss: 0.0161 - accuracy: 0.9973 - val_loss: 0.5399 - val_accuracy: 0.8780\n",
            "Epoch 18/20\n",
            "24000/24000 [==============================] - 2s 66us/step - loss: 0.0146 - accuracy: 0.9967 - val_loss: 0.5686 - val_accuracy: 0.8810\n",
            "Epoch 19/20\n",
            "24000/24000 [==============================] - 2s 65us/step - loss: 0.0108 - accuracy: 0.9979 - val_loss: 0.6050 - val_accuracy: 0.8810\n",
            "Epoch 20/20\n",
            "24000/24000 [==============================] - 2s 66us/step - loss: 0.0079 - accuracy: 0.9988 - val_loss: 0.6542 - val_accuracy: 0.8740\n"
          ],
          "name": "stdout"
        }
      ]
    },
    {
      "cell_type": "code",
      "metadata": {
        "id": "296ODHewbHwj",
        "colab_type": "code",
        "colab": {}
      },
      "source": [
        "history_dict = history.history"
      ],
      "execution_count": 0,
      "outputs": []
    },
    {
      "cell_type": "code",
      "metadata": {
        "id": "Np-XnIcnbUQO",
        "colab_type": "code",
        "colab": {
          "base_uri": "https://localhost:8080/",
          "height": 1000
        },
        "outputId": "cefa4b61-ffaa-4cdd-dfbe-fbe2bf10bb40"
      },
      "source": [
        "history_dict"
      ],
      "execution_count": 22,
      "outputs": [
        {
          "output_type": "execute_result",
          "data": {
            "text/plain": [
              "{'accuracy': [0.8222917,\n",
              "  0.9048333,\n",
              "  0.92483336,\n",
              "  0.93720835,\n",
              "  0.948625,\n",
              "  0.956875,\n",
              "  0.9632083,\n",
              "  0.9685,\n",
              "  0.97425,\n",
              "  0.9791667,\n",
              "  0.9835,\n",
              "  0.98725,\n",
              "  0.98933333,\n",
              "  0.99204165,\n",
              "  0.99420834,\n",
              "  0.995625,\n",
              "  0.99725,\n",
              "  0.99675,\n",
              "  0.99791664,\n",
              "  0.99883336],\n",
              " 'loss': [0.47909645024935404,\n",
              "  0.28539849901199343,\n",
              "  0.21493326727549236,\n",
              "  0.17787659009297688,\n",
              "  0.14987357910474142,\n",
              "  0.13036742170651755,\n",
              "  0.11155267576376597,\n",
              "  0.0973182922999064,\n",
              "  0.08342244398593902,\n",
              "  0.07170473758379618,\n",
              "  0.059253708720207215,\n",
              "  0.049231066207091015,\n",
              "  0.04166906115412712,\n",
              "  0.03329245473941167,\n",
              "  0.02649438273906708,\n",
              "  0.021642208615938824,\n",
              "  0.016082820162177085,\n",
              "  0.014615423535307249,\n",
              "  0.010781151446203391,\n",
              "  0.007937724903225899],\n",
              " 'val_accuracy': [0.8600000143051147,\n",
              "  0.8870000243186951,\n",
              "  0.8920000195503235,\n",
              "  0.8920000195503235,\n",
              "  0.8970000147819519,\n",
              "  0.8989999890327454,\n",
              "  0.8820000290870667,\n",
              "  0.890999972820282,\n",
              "  0.8920000195503235,\n",
              "  0.8849999904632568,\n",
              "  0.8870000243186951,\n",
              "  0.8799999952316284,\n",
              "  0.8859999775886536,\n",
              "  0.8820000290870667,\n",
              "  0.8799999952316284,\n",
              "  0.878000020980835,\n",
              "  0.878000020980835,\n",
              "  0.8809999823570251,\n",
              "  0.8809999823570251,\n",
              "  0.8740000128746033],\n",
              " 'val_loss': [0.3669282917976379,\n",
              "  0.2679325203895569,\n",
              "  0.24824410820007325,\n",
              "  0.25669445180892947,\n",
              "  0.2609415214061737,\n",
              "  0.27997573351860044,\n",
              "  0.300426317691803,\n",
              "  0.2989400899410248,\n",
              "  0.3302914855480194,\n",
              "  0.34222227954864504,\n",
              "  0.38479427933692933,\n",
              "  0.39973670363426206,\n",
              "  0.41476688981056214,\n",
              "  0.4512379846572876,\n",
              "  0.4834746766090393,\n",
              "  0.5117017788887024,\n",
              "  0.5398992276191712,\n",
              "  0.5686353421211243,\n",
              "  0.6050245447158813,\n",
              "  0.6541810202598571]}"
            ]
          },
          "metadata": {
            "tags": []
          },
          "execution_count": 22
        }
      ]
    },
    {
      "cell_type": "code",
      "metadata": {
        "id": "iVDsji4AbWA4",
        "colab_type": "code",
        "colab": {
          "base_uri": "https://localhost:8080/",
          "height": 542
        },
        "outputId": "098c14fb-4040-4b8c-e014-e9da17149094"
      },
      "source": [
        "import plotly.express as px\n",
        "import pandas as pd\n",
        "\n",
        "df = pd.DataFrame(history_dict)\n",
        "fig = px.line(df, x=df.index, y='loss')\n",
        "fig.show()"
      ],
      "execution_count": 31,
      "outputs": [
        {
          "output_type": "display_data",
          "data": {
            "text/html": [
              "<html>\n",
              "<head><meta charset=\"utf-8\" /></head>\n",
              "<body>\n",
              "    <div>\n",
              "            <script src=\"https://cdnjs.cloudflare.com/ajax/libs/mathjax/2.7.5/MathJax.js?config=TeX-AMS-MML_SVG\"></script><script type=\"text/javascript\">if (window.MathJax) {MathJax.Hub.Config({SVG: {font: \"STIX-Web\"}});}</script>\n",
              "                <script type=\"text/javascript\">window.PlotlyConfig = {MathJaxConfig: 'local'};</script>\n",
              "        <script src=\"https://cdn.plot.ly/plotly-latest.min.js\"></script>    \n",
              "            <div id=\"52996d84-74ba-4bb2-8c1c-7072836e0665\" class=\"plotly-graph-div\" style=\"height:525px; width:100%;\"></div>\n",
              "            <script type=\"text/javascript\">\n",
              "                \n",
              "                    window.PLOTLYENV=window.PLOTLYENV || {};\n",
              "                    \n",
              "                if (document.getElementById(\"52996d84-74ba-4bb2-8c1c-7072836e0665\")) {\n",
              "                    Plotly.newPlot(\n",
              "                        '52996d84-74ba-4bb2-8c1c-7072836e0665',\n",
              "                        [{\"hoverlabel\": {\"namelength\": 0}, \"hovertemplate\": \"index=%{x}<br>loss=%{y}\", \"legendgroup\": \"\", \"line\": {\"color\": \"#636efa\", \"dash\": \"solid\"}, \"mode\": \"lines\", \"name\": \"\", \"showlegend\": false, \"type\": \"scatter\", \"x\": [0, 1, 2, 3, 4, 5, 6, 7, 8, 9, 10, 11, 12, 13, 14, 15, 16, 17, 18, 19], \"xaxis\": \"x\", \"y\": [0.47909645024935404, 0.28539849901199343, 0.21493326727549236, 0.17787659009297688, 0.14987357910474142, 0.13036742170651755, 0.11155267576376597, 0.0973182922999064, 0.08342244398593902, 0.07170473758379618, 0.059253708720207215, 0.049231066207091015, 0.04166906115412712, 0.03329245473941167, 0.02649438273906708, 0.021642208615938824, 0.016082820162177085, 0.014615423535307249, 0.010781151446203391, 0.007937724903225899], \"yaxis\": \"y\"}],\n",
              "                        {\"legend\": {\"tracegroupgap\": 0}, \"margin\": {\"t\": 60}, \"template\": {\"data\": {\"bar\": [{\"error_x\": {\"color\": \"#2a3f5f\"}, \"error_y\": {\"color\": \"#2a3f5f\"}, \"marker\": {\"line\": {\"color\": \"#E5ECF6\", \"width\": 0.5}}, \"type\": \"bar\"}], \"barpolar\": [{\"marker\": {\"line\": {\"color\": \"#E5ECF6\", \"width\": 0.5}}, \"type\": \"barpolar\"}], \"carpet\": [{\"aaxis\": {\"endlinecolor\": \"#2a3f5f\", \"gridcolor\": \"white\", \"linecolor\": \"white\", \"minorgridcolor\": \"white\", \"startlinecolor\": \"#2a3f5f\"}, \"baxis\": {\"endlinecolor\": \"#2a3f5f\", \"gridcolor\": \"white\", \"linecolor\": \"white\", \"minorgridcolor\": \"white\", \"startlinecolor\": \"#2a3f5f\"}, \"type\": \"carpet\"}], \"choropleth\": [{\"colorbar\": {\"outlinewidth\": 0, \"ticks\": \"\"}, \"type\": \"choropleth\"}], \"contour\": [{\"colorbar\": {\"outlinewidth\": 0, \"ticks\": \"\"}, \"colorscale\": [[0.0, \"#0d0887\"], [0.1111111111111111, \"#46039f\"], [0.2222222222222222, \"#7201a8\"], [0.3333333333333333, \"#9c179e\"], [0.4444444444444444, \"#bd3786\"], [0.5555555555555556, \"#d8576b\"], [0.6666666666666666, \"#ed7953\"], [0.7777777777777778, \"#fb9f3a\"], [0.8888888888888888, \"#fdca26\"], [1.0, \"#f0f921\"]], \"type\": \"contour\"}], \"contourcarpet\": [{\"colorbar\": {\"outlinewidth\": 0, \"ticks\": \"\"}, \"type\": \"contourcarpet\"}], \"heatmap\": [{\"colorbar\": {\"outlinewidth\": 0, \"ticks\": \"\"}, \"colorscale\": [[0.0, \"#0d0887\"], [0.1111111111111111, \"#46039f\"], [0.2222222222222222, \"#7201a8\"], [0.3333333333333333, \"#9c179e\"], [0.4444444444444444, \"#bd3786\"], [0.5555555555555556, \"#d8576b\"], [0.6666666666666666, \"#ed7953\"], [0.7777777777777778, \"#fb9f3a\"], [0.8888888888888888, \"#fdca26\"], [1.0, \"#f0f921\"]], \"type\": \"heatmap\"}], \"heatmapgl\": [{\"colorbar\": {\"outlinewidth\": 0, \"ticks\": \"\"}, \"colorscale\": [[0.0, \"#0d0887\"], [0.1111111111111111, \"#46039f\"], [0.2222222222222222, \"#7201a8\"], [0.3333333333333333, \"#9c179e\"], [0.4444444444444444, \"#bd3786\"], [0.5555555555555556, \"#d8576b\"], [0.6666666666666666, \"#ed7953\"], [0.7777777777777778, \"#fb9f3a\"], [0.8888888888888888, \"#fdca26\"], [1.0, \"#f0f921\"]], \"type\": \"heatmapgl\"}], \"histogram\": [{\"marker\": {\"colorbar\": {\"outlinewidth\": 0, \"ticks\": \"\"}}, \"type\": \"histogram\"}], \"histogram2d\": [{\"colorbar\": {\"outlinewidth\": 0, \"ticks\": \"\"}, \"colorscale\": [[0.0, \"#0d0887\"], [0.1111111111111111, \"#46039f\"], [0.2222222222222222, \"#7201a8\"], [0.3333333333333333, \"#9c179e\"], [0.4444444444444444, \"#bd3786\"], [0.5555555555555556, \"#d8576b\"], [0.6666666666666666, \"#ed7953\"], [0.7777777777777778, \"#fb9f3a\"], [0.8888888888888888, \"#fdca26\"], [1.0, \"#f0f921\"]], \"type\": \"histogram2d\"}], \"histogram2dcontour\": [{\"colorbar\": {\"outlinewidth\": 0, \"ticks\": \"\"}, \"colorscale\": [[0.0, \"#0d0887\"], [0.1111111111111111, \"#46039f\"], [0.2222222222222222, \"#7201a8\"], [0.3333333333333333, \"#9c179e\"], [0.4444444444444444, \"#bd3786\"], [0.5555555555555556, \"#d8576b\"], [0.6666666666666666, \"#ed7953\"], [0.7777777777777778, \"#fb9f3a\"], [0.8888888888888888, \"#fdca26\"], [1.0, \"#f0f921\"]], \"type\": \"histogram2dcontour\"}], \"mesh3d\": [{\"colorbar\": {\"outlinewidth\": 0, \"ticks\": \"\"}, \"type\": \"mesh3d\"}], \"parcoords\": [{\"line\": {\"colorbar\": {\"outlinewidth\": 0, \"ticks\": \"\"}}, \"type\": \"parcoords\"}], \"pie\": [{\"automargin\": true, \"type\": \"pie\"}], \"scatter\": [{\"marker\": {\"colorbar\": {\"outlinewidth\": 0, \"ticks\": \"\"}}, \"type\": \"scatter\"}], \"scatter3d\": [{\"line\": {\"colorbar\": {\"outlinewidth\": 0, \"ticks\": \"\"}}, \"marker\": {\"colorbar\": {\"outlinewidth\": 0, \"ticks\": \"\"}}, \"type\": \"scatter3d\"}], \"scattercarpet\": [{\"marker\": {\"colorbar\": {\"outlinewidth\": 0, \"ticks\": \"\"}}, \"type\": \"scattercarpet\"}], \"scattergeo\": [{\"marker\": {\"colorbar\": {\"outlinewidth\": 0, \"ticks\": \"\"}}, \"type\": \"scattergeo\"}], \"scattergl\": [{\"marker\": {\"colorbar\": {\"outlinewidth\": 0, \"ticks\": \"\"}}, \"type\": \"scattergl\"}], \"scattermapbox\": [{\"marker\": {\"colorbar\": {\"outlinewidth\": 0, \"ticks\": \"\"}}, \"type\": \"scattermapbox\"}], \"scatterpolar\": [{\"marker\": {\"colorbar\": {\"outlinewidth\": 0, \"ticks\": \"\"}}, \"type\": \"scatterpolar\"}], \"scatterpolargl\": [{\"marker\": {\"colorbar\": {\"outlinewidth\": 0, \"ticks\": \"\"}}, \"type\": \"scatterpolargl\"}], \"scatterternary\": [{\"marker\": {\"colorbar\": {\"outlinewidth\": 0, \"ticks\": \"\"}}, \"type\": \"scatterternary\"}], \"surface\": [{\"colorbar\": {\"outlinewidth\": 0, \"ticks\": \"\"}, \"colorscale\": [[0.0, \"#0d0887\"], [0.1111111111111111, \"#46039f\"], [0.2222222222222222, \"#7201a8\"], [0.3333333333333333, \"#9c179e\"], [0.4444444444444444, \"#bd3786\"], [0.5555555555555556, \"#d8576b\"], [0.6666666666666666, \"#ed7953\"], [0.7777777777777778, \"#fb9f3a\"], [0.8888888888888888, \"#fdca26\"], [1.0, \"#f0f921\"]], \"type\": \"surface\"}], \"table\": [{\"cells\": {\"fill\": {\"color\": \"#EBF0F8\"}, \"line\": {\"color\": \"white\"}}, \"header\": {\"fill\": {\"color\": \"#C8D4E3\"}, \"line\": {\"color\": \"white\"}}, \"type\": \"table\"}]}, \"layout\": {\"annotationdefaults\": {\"arrowcolor\": \"#2a3f5f\", \"arrowhead\": 0, \"arrowwidth\": 1}, \"coloraxis\": {\"colorbar\": {\"outlinewidth\": 0, \"ticks\": \"\"}}, \"colorscale\": {\"diverging\": [[0, \"#8e0152\"], [0.1, \"#c51b7d\"], [0.2, \"#de77ae\"], [0.3, \"#f1b6da\"], [0.4, \"#fde0ef\"], [0.5, \"#f7f7f7\"], [0.6, \"#e6f5d0\"], [0.7, \"#b8e186\"], [0.8, \"#7fbc41\"], [0.9, \"#4d9221\"], [1, \"#276419\"]], \"sequential\": [[0.0, \"#0d0887\"], [0.1111111111111111, \"#46039f\"], [0.2222222222222222, \"#7201a8\"], [0.3333333333333333, \"#9c179e\"], [0.4444444444444444, \"#bd3786\"], [0.5555555555555556, \"#d8576b\"], [0.6666666666666666, \"#ed7953\"], [0.7777777777777778, \"#fb9f3a\"], [0.8888888888888888, \"#fdca26\"], [1.0, \"#f0f921\"]], \"sequentialminus\": [[0.0, \"#0d0887\"], [0.1111111111111111, \"#46039f\"], [0.2222222222222222, \"#7201a8\"], [0.3333333333333333, \"#9c179e\"], [0.4444444444444444, \"#bd3786\"], [0.5555555555555556, \"#d8576b\"], [0.6666666666666666, \"#ed7953\"], [0.7777777777777778, \"#fb9f3a\"], [0.8888888888888888, \"#fdca26\"], [1.0, \"#f0f921\"]]}, \"colorway\": [\"#636efa\", \"#EF553B\", \"#00cc96\", \"#ab63fa\", \"#FFA15A\", \"#19d3f3\", \"#FF6692\", \"#B6E880\", \"#FF97FF\", \"#FECB52\"], \"font\": {\"color\": \"#2a3f5f\"}, \"geo\": {\"bgcolor\": \"white\", \"lakecolor\": \"white\", \"landcolor\": \"#E5ECF6\", \"showlakes\": true, \"showland\": true, \"subunitcolor\": \"white\"}, \"hoverlabel\": {\"align\": \"left\"}, \"hovermode\": \"closest\", \"mapbox\": {\"style\": \"light\"}, \"paper_bgcolor\": \"white\", \"plot_bgcolor\": \"#E5ECF6\", \"polar\": {\"angularaxis\": {\"gridcolor\": \"white\", \"linecolor\": \"white\", \"ticks\": \"\"}, \"bgcolor\": \"#E5ECF6\", \"radialaxis\": {\"gridcolor\": \"white\", \"linecolor\": \"white\", \"ticks\": \"\"}}, \"scene\": {\"xaxis\": {\"backgroundcolor\": \"#E5ECF6\", \"gridcolor\": \"white\", \"gridwidth\": 2, \"linecolor\": \"white\", \"showbackground\": true, \"ticks\": \"\", \"zerolinecolor\": \"white\"}, \"yaxis\": {\"backgroundcolor\": \"#E5ECF6\", \"gridcolor\": \"white\", \"gridwidth\": 2, \"linecolor\": \"white\", \"showbackground\": true, \"ticks\": \"\", \"zerolinecolor\": \"white\"}, \"zaxis\": {\"backgroundcolor\": \"#E5ECF6\", \"gridcolor\": \"white\", \"gridwidth\": 2, \"linecolor\": \"white\", \"showbackground\": true, \"ticks\": \"\", \"zerolinecolor\": \"white\"}}, \"shapedefaults\": {\"line\": {\"color\": \"#2a3f5f\"}}, \"ternary\": {\"aaxis\": {\"gridcolor\": \"white\", \"linecolor\": \"white\", \"ticks\": \"\"}, \"baxis\": {\"gridcolor\": \"white\", \"linecolor\": \"white\", \"ticks\": \"\"}, \"bgcolor\": \"#E5ECF6\", \"caxis\": {\"gridcolor\": \"white\", \"linecolor\": \"white\", \"ticks\": \"\"}}, \"title\": {\"x\": 0.05}, \"xaxis\": {\"automargin\": true, \"gridcolor\": \"white\", \"linecolor\": \"white\", \"ticks\": \"\", \"title\": {\"standoff\": 15}, \"zerolinecolor\": \"white\", \"zerolinewidth\": 2}, \"yaxis\": {\"automargin\": true, \"gridcolor\": \"white\", \"linecolor\": \"white\", \"ticks\": \"\", \"title\": {\"standoff\": 15}, \"zerolinecolor\": \"white\", \"zerolinewidth\": 2}}}, \"xaxis\": {\"anchor\": \"y\", \"domain\": [0.0, 1.0], \"title\": {\"text\": \"index\"}}, \"yaxis\": {\"anchor\": \"x\", \"domain\": [0.0, 1.0], \"title\": {\"text\": \"loss\"}}},\n",
              "                        {\"responsive\": true}\n",
              "                    ).then(function(){\n",
              "                            \n",
              "var gd = document.getElementById('52996d84-74ba-4bb2-8c1c-7072836e0665');\n",
              "var x = new MutationObserver(function (mutations, observer) {{\n",
              "        var display = window.getComputedStyle(gd).display;\n",
              "        if (!display || display === 'none') {{\n",
              "            console.log([gd, 'removed!']);\n",
              "            Plotly.purge(gd);\n",
              "            observer.disconnect();\n",
              "        }}\n",
              "}});\n",
              "\n",
              "// Listen for the removal of the full notebook cells\n",
              "var notebookContainer = gd.closest('#notebook-container');\n",
              "if (notebookContainer) {{\n",
              "    x.observe(notebookContainer, {childList: true});\n",
              "}}\n",
              "\n",
              "// Listen for the clearing of the current output cell\n",
              "var outputEl = gd.closest('.output');\n",
              "if (outputEl) {{\n",
              "    x.observe(outputEl, {childList: true});\n",
              "}}\n",
              "\n",
              "                        })\n",
              "                };\n",
              "                \n",
              "            </script>\n",
              "        </div>\n",
              "</body>\n",
              "</html>"
            ]
          },
          "metadata": {
            "tags": []
          }
        }
      ]
    },
    {
      "cell_type": "code",
      "metadata": {
        "id": "Y_hhGTWCbrhi",
        "colab_type": "code",
        "colab": {
          "base_uri": "https://localhost:8080/",
          "height": 669
        },
        "outputId": "a12e1099-8eb4-4d56-e45e-0e60ebf2dde8"
      },
      "source": [
        "df"
      ],
      "execution_count": 25,
      "outputs": [
        {
          "output_type": "execute_result",
          "data": {
            "text/html": [
              "<div>\n",
              "<style scoped>\n",
              "    .dataframe tbody tr th:only-of-type {\n",
              "        vertical-align: middle;\n",
              "    }\n",
              "\n",
              "    .dataframe tbody tr th {\n",
              "        vertical-align: top;\n",
              "    }\n",
              "\n",
              "    .dataframe thead th {\n",
              "        text-align: right;\n",
              "    }\n",
              "</style>\n",
              "<table border=\"1\" class=\"dataframe\">\n",
              "  <thead>\n",
              "    <tr style=\"text-align: right;\">\n",
              "      <th></th>\n",
              "      <th>val_loss</th>\n",
              "      <th>val_accuracy</th>\n",
              "      <th>loss</th>\n",
              "      <th>accuracy</th>\n",
              "    </tr>\n",
              "  </thead>\n",
              "  <tbody>\n",
              "    <tr>\n",
              "      <th>0</th>\n",
              "      <td>0.366928</td>\n",
              "      <td>0.860</td>\n",
              "      <td>0.479096</td>\n",
              "      <td>0.822292</td>\n",
              "    </tr>\n",
              "    <tr>\n",
              "      <th>1</th>\n",
              "      <td>0.267933</td>\n",
              "      <td>0.887</td>\n",
              "      <td>0.285398</td>\n",
              "      <td>0.904833</td>\n",
              "    </tr>\n",
              "    <tr>\n",
              "      <th>2</th>\n",
              "      <td>0.248244</td>\n",
              "      <td>0.892</td>\n",
              "      <td>0.214933</td>\n",
              "      <td>0.924833</td>\n",
              "    </tr>\n",
              "    <tr>\n",
              "      <th>3</th>\n",
              "      <td>0.256694</td>\n",
              "      <td>0.892</td>\n",
              "      <td>0.177877</td>\n",
              "      <td>0.937208</td>\n",
              "    </tr>\n",
              "    <tr>\n",
              "      <th>4</th>\n",
              "      <td>0.260942</td>\n",
              "      <td>0.897</td>\n",
              "      <td>0.149874</td>\n",
              "      <td>0.948625</td>\n",
              "    </tr>\n",
              "    <tr>\n",
              "      <th>5</th>\n",
              "      <td>0.279976</td>\n",
              "      <td>0.899</td>\n",
              "      <td>0.130367</td>\n",
              "      <td>0.956875</td>\n",
              "    </tr>\n",
              "    <tr>\n",
              "      <th>6</th>\n",
              "      <td>0.300426</td>\n",
              "      <td>0.882</td>\n",
              "      <td>0.111553</td>\n",
              "      <td>0.963208</td>\n",
              "    </tr>\n",
              "    <tr>\n",
              "      <th>7</th>\n",
              "      <td>0.298940</td>\n",
              "      <td>0.891</td>\n",
              "      <td>0.097318</td>\n",
              "      <td>0.968500</td>\n",
              "    </tr>\n",
              "    <tr>\n",
              "      <th>8</th>\n",
              "      <td>0.330291</td>\n",
              "      <td>0.892</td>\n",
              "      <td>0.083422</td>\n",
              "      <td>0.974250</td>\n",
              "    </tr>\n",
              "    <tr>\n",
              "      <th>9</th>\n",
              "      <td>0.342222</td>\n",
              "      <td>0.885</td>\n",
              "      <td>0.071705</td>\n",
              "      <td>0.979167</td>\n",
              "    </tr>\n",
              "    <tr>\n",
              "      <th>10</th>\n",
              "      <td>0.384794</td>\n",
              "      <td>0.887</td>\n",
              "      <td>0.059254</td>\n",
              "      <td>0.983500</td>\n",
              "    </tr>\n",
              "    <tr>\n",
              "      <th>11</th>\n",
              "      <td>0.399737</td>\n",
              "      <td>0.880</td>\n",
              "      <td>0.049231</td>\n",
              "      <td>0.987250</td>\n",
              "    </tr>\n",
              "    <tr>\n",
              "      <th>12</th>\n",
              "      <td>0.414767</td>\n",
              "      <td>0.886</td>\n",
              "      <td>0.041669</td>\n",
              "      <td>0.989333</td>\n",
              "    </tr>\n",
              "    <tr>\n",
              "      <th>13</th>\n",
              "      <td>0.451238</td>\n",
              "      <td>0.882</td>\n",
              "      <td>0.033292</td>\n",
              "      <td>0.992042</td>\n",
              "    </tr>\n",
              "    <tr>\n",
              "      <th>14</th>\n",
              "      <td>0.483475</td>\n",
              "      <td>0.880</td>\n",
              "      <td>0.026494</td>\n",
              "      <td>0.994208</td>\n",
              "    </tr>\n",
              "    <tr>\n",
              "      <th>15</th>\n",
              "      <td>0.511702</td>\n",
              "      <td>0.878</td>\n",
              "      <td>0.021642</td>\n",
              "      <td>0.995625</td>\n",
              "    </tr>\n",
              "    <tr>\n",
              "      <th>16</th>\n",
              "      <td>0.539899</td>\n",
              "      <td>0.878</td>\n",
              "      <td>0.016083</td>\n",
              "      <td>0.997250</td>\n",
              "    </tr>\n",
              "    <tr>\n",
              "      <th>17</th>\n",
              "      <td>0.568635</td>\n",
              "      <td>0.881</td>\n",
              "      <td>0.014615</td>\n",
              "      <td>0.996750</td>\n",
              "    </tr>\n",
              "    <tr>\n",
              "      <th>18</th>\n",
              "      <td>0.605025</td>\n",
              "      <td>0.881</td>\n",
              "      <td>0.010781</td>\n",
              "      <td>0.997917</td>\n",
              "    </tr>\n",
              "    <tr>\n",
              "      <th>19</th>\n",
              "      <td>0.654181</td>\n",
              "      <td>0.874</td>\n",
              "      <td>0.007938</td>\n",
              "      <td>0.998833</td>\n",
              "    </tr>\n",
              "  </tbody>\n",
              "</table>\n",
              "</div>"
            ],
            "text/plain": [
              "    val_loss  val_accuracy      loss  accuracy\n",
              "0   0.366928         0.860  0.479096  0.822292\n",
              "1   0.267933         0.887  0.285398  0.904833\n",
              "2   0.248244         0.892  0.214933  0.924833\n",
              "3   0.256694         0.892  0.177877  0.937208\n",
              "4   0.260942         0.897  0.149874  0.948625\n",
              "5   0.279976         0.899  0.130367  0.956875\n",
              "6   0.300426         0.882  0.111553  0.963208\n",
              "7   0.298940         0.891  0.097318  0.968500\n",
              "8   0.330291         0.892  0.083422  0.974250\n",
              "9   0.342222         0.885  0.071705  0.979167\n",
              "10  0.384794         0.887  0.059254  0.983500\n",
              "11  0.399737         0.880  0.049231  0.987250\n",
              "12  0.414767         0.886  0.041669  0.989333\n",
              "13  0.451238         0.882  0.033292  0.992042\n",
              "14  0.483475         0.880  0.026494  0.994208\n",
              "15  0.511702         0.878  0.021642  0.995625\n",
              "16  0.539899         0.878  0.016083  0.997250\n",
              "17  0.568635         0.881  0.014615  0.996750\n",
              "18  0.605025         0.881  0.010781  0.997917\n",
              "19  0.654181         0.874  0.007938  0.998833"
            ]
          },
          "metadata": {
            "tags": []
          },
          "execution_count": 25
        }
      ]
    },
    {
      "cell_type": "code",
      "metadata": {
        "id": "Wpzrwle5b_2F",
        "colab_type": "code",
        "colab": {}
      },
      "source": [
        ""
      ],
      "execution_count": 0,
      "outputs": []
    }
  ]
}